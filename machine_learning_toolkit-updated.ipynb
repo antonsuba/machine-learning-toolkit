{
 "cells": [
  {
   "cell_type": "code",
   "execution_count": 1,
   "metadata": {},
   "outputs": [],
   "source": [
    "%matplotlib inline\n",
    "import math\n",
    "import pandas as pd\n",
    "import matplotlib as plt\n",
    "import numpy as np\n",
    "import seaborn as sns; sns.set(style='ticks', color_codes=True)\n",
    "\n",
    "from pandas.plotting import parallel_coordinates\n",
    "from sklearn import preprocessing\n",
    "from operator import itemgetter "
   ]
  },
  {
   "cell_type": "code",
   "execution_count": 2,
   "metadata": {},
   "outputs": [],
   "source": [
    "#Distance calculation\n",
    "\n",
    "def bhattacharyyan_distance(v1, v2):\n",
    "    if len(v1) != len(v2):\n",
    "        return -1\n",
    "    \n",
    "    return sum([math.sqrt(v1[i] * v2[i]) for i in range(0, len(v1))])\n",
    "\n",
    "def euclidean_distance(v1,v2):\n",
    "    if len(v1) != len(v2):\n",
    "        return -1\n",
    "    \n",
    "    return math.sqrt(sum((v1[i]-v2[i])**2 for i in range(0, len(v1))))"
   ]
  },
  {
   "cell_type": "code",
   "execution_count": 3,
   "metadata": {},
   "outputs": [],
   "source": [
    "#Normalization\n",
    "\n",
    "def normalize_max_known(base_df, max_val_list):\n",
    "    df = base_df.copy()\n",
    "\n",
    "    col_size = len(df.columns)\n",
    "    for i in range(0, col_size):\n",
    "        max_val = max_val_list[i]\n",
    "        vector = df.iloc[:,i]\n",
    "        \n",
    "        df.iloc[:,i] = [x/float(max_val) for x in vector]\n",
    "        \n",
    "    return df\n",
    "    \n",
    "\n",
    "def normalize_max_unknown(base_df):\n",
    "    df = base_df.copy()\n",
    "    \n",
    "    col_size = len(df.columns)\n",
    "    for i in range(0, col_size):\n",
    "        vector = df.iloc[:,i]\n",
    "        min = np.min(vector)\n",
    "        max = np.max(vector)\n",
    "        \n",
    "        df.iloc[:,i] = [(x - float(min)) / (float(max) - float(min)) for x in vector]\n",
    "        \n",
    "    return df\n",
    "\n",
    "def normalize_time_series(base_df):\n",
    "    df = base_df.copy()\n",
    "    mean_list = list()\n",
    "    stdev_list = list()\n",
    "    \n",
    "    for i in range(0, len(df)):\n",
    "        vector = df.iloc[i].values\n",
    "        \n",
    "        mean = np.mean(vector)\n",
    "        stdev = np.std(vector, ddof=1)\n",
    "        mean_list.append(mean)\n",
    "        stdev_list.append(stdev)\n",
    "        \n",
    "        df.iloc[i] = [(x - mean) / stdev for x in vector]\n",
    "        \n",
    "    return df\n",
    "#     return df, mean_list, stdev_list"
   ]
  },
  {
   "cell_type": "code",
   "execution_count": 4,
   "metadata": {},
   "outputs": [],
   "source": [
    "#Data Visualization\n",
    "\n",
    "def parallel_lines(df, target_category):\n",
    "    plt.pyplot.figure(figsize=(30,10))\n",
    "\n",
    "    parallel_plt = parallel_coordinates(df, target_category)\n",
    "    plt.pyplot.savefig('%s_parallel.png' % target_category)\n",
    "    \n",
    "def scatter_plot(df, target_category):\n",
    "    scatter_plt = sns.pairplot(df, hue=target_category)\n",
    "    scatter_plt.savefig('%s_scatter.png' % target_category)"
   ]
  },
  {
   "cell_type": "code",
   "execution_count": 5,
   "metadata": {
    "scrolled": true
   },
   "outputs": [],
   "source": [
    "#Naive Bayes\n",
    "\n",
    "class NaiveBayes(object):\n",
    "    \n",
    "    def __init__(self):\n",
    "        self.label_ratio = list()\n",
    "        self.mean_variance_dict = {}\n",
    "    \n",
    "    def train(self, data, label, label_name):\n",
    "        #Compute for classification ratio - P(A) = P(0), P(A) = P(1)\n",
    "#         self.label_ratio.append(label.count(0) / len(label))\n",
    "#         self.label_ratio.append(label.count(1) / len(label))\n",
    "        \n",
    "        unique, counts = np.unique(label, return_counts=True)\n",
    "        label_count_dict = dict(zip(unique, counts))\n",
    "        self.label_ratio.append(label_count_dict[0])\n",
    "        self.label_ratio.append(label_count_dict[1])\n",
    "\n",
    "        zero_data = data.loc[data[label_name] == 0]\n",
    "        one_data = data.loc[data[label_name] == 1]\n",
    "        \n",
    "        for column in zero_data:\n",
    "            mean = np.mean(zero_data[column])\n",
    "            variance = np.var(zero_data[column])\n",
    "            self.mean_variance_dict[0] = {'mean':{column:mean}}\n",
    "            self.mean_variance_dict[0] = {'variance':{column:variance}}\n",
    "\n",
    "            \n",
    "        for column in one_data:\n",
    "            mean = np.mean(one_data[column])\n",
    "            variance = np.var(one_data[column])\n",
    "            self.mean_variance_dict[1] = {'mean':{column:mean}}\n",
    "            self.mean_variance_dict[1] = {'variance':{column:variance}}\n",
    "        \n",
    "df = pd.read_csv('sample_data.csv')\n",
    "clf = NaiveBayes().train(df, df['y'].values, 'y')"
   ]
  },
  {
   "cell_type": "code",
   "execution_count": 6,
   "metadata": {},
   "outputs": [
    {
     "data": {
      "text/plain": [
       "0.45128684260947494"
      ]
     },
     "execution_count": 6,
     "metadata": {},
     "output_type": "execute_result"
    }
   ],
   "source": [
    "v1 = df.loc[0]\n",
    "v2 = df.loc[1]\n",
    "\n",
    "euclidean_distance(v1,v2)"
   ]
  },
  {
   "cell_type": "code",
   "execution_count": 13,
   "metadata": {},
   "outputs": [
    {
     "data": {
      "text/html": [
       "<div>\n",
       "<style>\n",
       "    .dataframe thead tr:only-child th {\n",
       "        text-align: right;\n",
       "    }\n",
       "\n",
       "    .dataframe thead th {\n",
       "        text-align: left;\n",
       "    }\n",
       "\n",
       "    .dataframe tbody tr th {\n",
       "        vertical-align: top;\n",
       "    }\n",
       "</style>\n",
       "<table border=\"1\" class=\"dataframe\">\n",
       "  <thead>\n",
       "    <tr style=\"text-align: right;\">\n",
       "      <th></th>\n",
       "      <th>x1</th>\n",
       "      <th>x2</th>\n",
       "      <th>x3</th>\n",
       "      <th>y</th>\n",
       "    </tr>\n",
       "  </thead>\n",
       "  <tbody>\n",
       "    <tr>\n",
       "      <th>0</th>\n",
       "      <td>2</td>\n",
       "      <td>6</td>\n",
       "      <td>1</td>\n",
       "      <td>1</td>\n",
       "    </tr>\n",
       "    <tr>\n",
       "      <th>1</th>\n",
       "      <td>1</td>\n",
       "      <td>5</td>\n",
       "      <td>0</td>\n",
       "      <td>1</td>\n",
       "    </tr>\n",
       "    <tr>\n",
       "      <th>2</th>\n",
       "      <td>2</td>\n",
       "      <td>6</td>\n",
       "      <td>1</td>\n",
       "      <td>1</td>\n",
       "    </tr>\n",
       "    <tr>\n",
       "      <th>3</th>\n",
       "      <td>12</td>\n",
       "      <td>2</td>\n",
       "      <td>1</td>\n",
       "      <td>0</td>\n",
       "    </tr>\n",
       "    <tr>\n",
       "      <th>4</th>\n",
       "      <td>9</td>\n",
       "      <td>1</td>\n",
       "      <td>0</td>\n",
       "      <td>0</td>\n",
       "    </tr>\n",
       "    <tr>\n",
       "      <th>5</th>\n",
       "      <td>7</td>\n",
       "      <td>2</td>\n",
       "      <td>1</td>\n",
       "      <td>0</td>\n",
       "    </tr>\n",
       "  </tbody>\n",
       "</table>\n",
       "</div>"
      ],
      "text/plain": [
       "   x1  x2  x3  y\n",
       "0   2   6   1  1\n",
       "1   1   5   0  1\n",
       "2   2   6   1  1\n",
       "3  12   2   1  0\n",
       "4   9   1   0  0\n",
       "5   7   2   1  0"
      ]
     },
     "execution_count": 13,
     "metadata": {},
     "output_type": "execute_result"
    }
   ],
   "source": [
    "sample = pd.read_csv('lt1.csv')\n",
    "sample"
   ]
  },
  {
   "cell_type": "code",
   "execution_count": 15,
   "metadata": {},
   "outputs": [
    {
     "data": {
      "image/png": "[encoded data removed]",
      "text/plain": [
       "<matplotlib.figure.Figure at 0x7f7d556bf048>"
      ]
     },
     "metadata": {},
     "output_type": "display_data"
    }
   ],
   "source": [
    "normalized1 = normalize_max_unknown(sample)\n",
    "scatter_plot(normalized1, 'y')"
   ]
  },
  {
   "cell_type": "code",
   "execution_count": 9,
   "metadata": {},
   "outputs": [
    {
     "data": {
      "text/html": [
       "<div>\n",
       "<style>\n",
       "    .dataframe thead tr:only-child th {\n",
       "        text-align: right;\n",
       "    }\n",
       "\n",
       "    .dataframe thead th {\n",
       "        text-align: left;\n",
       "    }\n",
       "\n",
       "    .dataframe tbody tr th {\n",
       "        vertical-align: top;\n",
       "    }\n",
       "</style>\n",
       "<table border=\"1\" class=\"dataframe\">\n",
       "  <thead>\n",
       "    <tr style=\"text-align: right;\">\n",
       "      <th></th>\n",
       "      <th>x1</th>\n",
       "      <th>x2</th>\n",
       "      <th>x3</th>\n",
       "      <th>Label</th>\n",
       "    </tr>\n",
       "  </thead>\n",
       "  <tbody>\n",
       "    <tr>\n",
       "      <th>0</th>\n",
       "      <td>0.6</td>\n",
       "      <td>0.4</td>\n",
       "      <td>0.333333</td>\n",
       "      <td>0.0</td>\n",
       "    </tr>\n",
       "    <tr>\n",
       "      <th>1</th>\n",
       "      <td>0.2</td>\n",
       "      <td>0.4</td>\n",
       "      <td>1.000000</td>\n",
       "      <td>1.0</td>\n",
       "    </tr>\n",
       "    <tr>\n",
       "      <th>2</th>\n",
       "      <td>1.0</td>\n",
       "      <td>0.2</td>\n",
       "      <td>0.666667</td>\n",
       "      <td>0.0</td>\n",
       "    </tr>\n",
       "    <tr>\n",
       "      <th>3</th>\n",
       "      <td>0.4</td>\n",
       "      <td>1.0</td>\n",
       "      <td>0.333333</td>\n",
       "      <td>0.0</td>\n",
       "    </tr>\n",
       "    <tr>\n",
       "      <th>4</th>\n",
       "      <td>0.2</td>\n",
       "      <td>0.2</td>\n",
       "      <td>1.000000</td>\n",
       "      <td>1.0</td>\n",
       "    </tr>\n",
       "  </tbody>\n",
       "</table>\n",
       "</div>"
      ],
      "text/plain": [
       "    x1   x2        x3  Label\n",
       "0  0.6  0.4  0.333333    0.0\n",
       "1  0.2  0.4  1.000000    1.0\n",
       "2  1.0  0.2  0.666667    0.0\n",
       "3  0.4  1.0  0.333333    0.0\n",
       "4  0.2  0.2  1.000000    1.0"
      ]
     },
     "execution_count": 9,
     "metadata": {},
     "output_type": "execute_result"
    }
   ],
   "source": [
    "normalized2 = normalize_max_known(sample, [5,5,3,1])\n",
    "normalized2"
   ]
  },
  {
   "cell_type": "code",
   "execution_count": 10,
   "metadata": {},
   "outputs": [
    {
     "data": {
      "text/html": [
       "<div>\n",
       "<style>\n",
       "    .dataframe thead tr:only-child th {\n",
       "        text-align: right;\n",
       "    }\n",
       "\n",
       "    .dataframe thead th {\n",
       "        text-align: left;\n",
       "    }\n",
       "\n",
       "    .dataframe tbody tr th {\n",
       "        vertical-align: top;\n",
       "    }\n",
       "</style>\n",
       "<table border=\"1\" class=\"dataframe\">\n",
       "  <thead>\n",
       "    <tr style=\"text-align: right;\">\n",
       "      <th></th>\n",
       "      <th>x1</th>\n",
       "      <th>x2</th>\n",
       "      <th>x3</th>\n",
       "      <th>Label</th>\n",
       "    </tr>\n",
       "  </thead>\n",
       "  <tbody>\n",
       "    <tr>\n",
       "      <th>0</th>\n",
       "      <td>1.161895</td>\n",
       "      <td>0.387298</td>\n",
       "      <td>-0.387298</td>\n",
       "      <td>-1.161895</td>\n",
       "    </tr>\n",
       "    <tr>\n",
       "      <th>1</th>\n",
       "      <td>-0.783349</td>\n",
       "      <td>0.261116</td>\n",
       "      <td>1.305582</td>\n",
       "      <td>-0.783349</td>\n",
       "    </tr>\n",
       "    <tr>\n",
       "      <th>2</th>\n",
       "      <td>1.388730</td>\n",
       "      <td>-0.462910</td>\n",
       "      <td>0.000000</td>\n",
       "      <td>-0.925820</td>\n",
       "    </tr>\n",
       "    <tr>\n",
       "      <th>3</th>\n",
       "      <td>0.000000</td>\n",
       "      <td>1.388730</td>\n",
       "      <td>-0.462910</td>\n",
       "      <td>-0.925820</td>\n",
       "    </tr>\n",
       "    <tr>\n",
       "      <th>4</th>\n",
       "      <td>-0.500000</td>\n",
       "      <td>-0.500000</td>\n",
       "      <td>1.500000</td>\n",
       "      <td>-0.500000</td>\n",
       "    </tr>\n",
       "  </tbody>\n",
       "</table>\n",
       "</div>"
      ],
      "text/plain": [
       "         x1        x2        x3     Label\n",
       "0  1.161895  0.387298 -0.387298 -1.161895\n",
       "1 -0.783349  0.261116  1.305582 -0.783349\n",
       "2  1.388730 -0.462910  0.000000 -0.925820\n",
       "3  0.000000  1.388730 -0.462910 -0.925820\n",
       "4 -0.500000 -0.500000  1.500000 -0.500000"
      ]
     },
     "execution_count": 10,
     "metadata": {},
     "output_type": "execute_result"
    }
   ],
   "source": [
    "normalize3 = normalize_time_series(sample)\n",
    "normalize3"
   ]
  }
 ],
 "metadata": {
  "kernelspec": {
   "display_name": "Python 3",
   "language": "python",
   "name": "python3"
  },
  "language_info": {
   "codemirror_mode": {
    "name": "ipython",
    "version": 3
   },
   "file_extension": ".py",
   "mimetype": "text/x-python",
   "name": "python",
   "nbconvert_exporter": "python",
   "pygments_lexer": "ipython3",
   "version": "3.5.2"
  }
 },
 "nbformat": 4,
 "nbformat_minor": 2
}
